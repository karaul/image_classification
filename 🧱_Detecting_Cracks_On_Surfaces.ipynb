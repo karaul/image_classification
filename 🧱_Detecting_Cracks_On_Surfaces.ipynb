{
  "metadata": {
    "kernelspec": {
      "language": "python",
      "display_name": "Python 3",
      "name": "python3"
    },
    "language_info": {
      "name": "python",
      "version": "3.7.12",
      "mimetype": "text/x-python",
      "codemirror_mode": {
        "name": "ipython",
        "version": 3
      },
      "pygments_lexer": "ipython3",
      "nbconvert_exporter": "python",
      "file_extension": ".py"
    },
    "kaggle": {
      "accelerator": "nvidiaTeslaT4",
      "dataSources": [
        {
          "sourceId": 792851,
          "sourceType": "datasetVersion",
          "datasetId": 414522
        }
      ],
      "dockerImageVersionId": 30301,
      "isInternetEnabled": false,
      "language": "python",
      "sourceType": "notebook",
      "isGpuEnabled": true
    },
    "colab": {
      "name": "🧱 Detecting Cracks On Surfaces",
      "provenance": [],
      "include_colab_link": true
    }
  },
  "nbformat_minor": 0,
  "nbformat": 4,
  "cells": [
    {
      "cell_type": "markdown",
      "metadata": {
        "id": "view-in-github",
        "colab_type": "text"
      },
      "source": [
        "<a href=\"https://colab.research.google.com/github/karaul/image_classification/blob/main/%F0%9F%A7%B1_Detecting_Cracks_On_Surfaces.ipynb\" target=\"_parent\"><img src=\"https://colab.research.google.com/assets/colab-badge.svg\" alt=\"Open In Colab\"/></a>"
      ]
    },
    {
      "source": [
        "# IMPORTANT: RUN THIS CELL IN ORDER TO IMPORT YOUR KAGGLE DATA SOURCES,\n",
        "# THEN FEEL FREE TO DELETE THIS CELL.\n",
        "# NOTE: THIS NOTEBOOK ENVIRONMENT DIFFERS FROM KAGGLE'S PYTHON\n",
        "# ENVIRONMENT SO THERE MAY BE MISSING LIBRARIES USED BY YOUR\n",
        "# NOTEBOOK.\n",
        "import kagglehub\n",
        "arunrk7_surface_crack_detection_path = kagglehub.dataset_download('arunrk7/surface-crack-detection')\n",
        "\n",
        "print('Data source import complete.')\n"
      ],
      "metadata": {
        "id": "B6jQ_xBALKxm"
      },
      "cell_type": "code",
      "outputs": [],
      "execution_count": null
    },
    {
      "cell_type": "markdown",
      "source": [
        "# 🧱 Detecting Cracks On Surfaces\n",
        "---"
      ],
      "metadata": {
        "id": "XS5zax7ALKxq"
      }
    },
    {
      "cell_type": "markdown",
      "source": [
        "Given *images of concrete surfaces*, let's try to **detect cracks** in the material.\n",
        "\n",
        "We will use a TensorFlow **Convolutional Neural Network (CNN)** to make the predictions."
      ],
      "metadata": {
        "id": "86gtGckHLKxr"
      }
    },
    {
      "cell_type": "markdown",
      "source": [
        "# Getting Started"
      ],
      "metadata": {
        "id": "hlPJWdQULKxr"
      }
    },
    {
      "cell_type": "code",
      "source": [
        "import numpy as np\n",
        "import pandas as pd\n",
        "import matplotlib.pyplot as plt\n",
        "import seaborn as sns\n",
        "import plotly.express as px\n",
        "\n",
        "from pathlib import Path\n",
        "from sklearn.model_selection import train_test_split\n",
        "\n",
        "import tensorflow as tf\n",
        "\n",
        "from sklearn.metrics import confusion_matrix, classification_report\n",
        "\n",
        "import warnings\n",
        "warnings.simplefilter(\"ignore\")"
      ],
      "metadata": {
        "trusted": true,
        "id": "EnPM9NvFLKxs"
      },
      "outputs": [],
      "execution_count": null
    },
    {
      "cell_type": "code",
      "source": [
        "# Turn the directory paths into Path object\n",
        "positive_dir = Path('../input/surface-crack-detection/Positive')\n",
        "negative_dir = Path('../input/surface-crack-detection/Negative')"
      ],
      "metadata": {
        "trusted": true,
        "id": "gusfjWCnLKxs"
      },
      "outputs": [],
      "execution_count": null
    },
    {
      "cell_type": "markdown",
      "source": [
        "# Create DataFrame"
      ],
      "metadata": {
        "id": "qWKRLJf9LKxt"
      }
    },
    {
      "cell_type": "markdown",
      "source": [
        "Let's create a DataFrame containing the path of the image and the associated label. This will permit to flow the images from it."
      ],
      "metadata": {
        "id": "WFZ8uddyLKxt"
      }
    },
    {
      "cell_type": "code",
      "source": [
        "def generate_df(image_dir, label):\n",
        "    \"\"\"\n",
        "    Create the DataFrame of the associated directory and label.\n",
        "    \"\"\"\n",
        "\n",
        "    filepaths = pd.Series(list(image_dir.glob(r'*.jpg')), name='Filepath').astype(str)\n",
        "    labels = pd.Series(label, name='Label', index=filepaths.index)\n",
        "    df = pd.concat([filepaths, labels], axis=1)\n",
        "\n",
        "    return df"
      ],
      "metadata": {
        "trusted": true,
        "id": "wBzLV0YNLKxt"
      },
      "outputs": [],
      "execution_count": null
    },
    {
      "cell_type": "code",
      "source": [
        "# Check Positive DataFrame\n",
        "positive_df = generate_df(positive_dir, 'POSITIVE')\n",
        "positive_df.head()"
      ],
      "metadata": {
        "trusted": true,
        "id": "1gB_-BRALKxu"
      },
      "outputs": [],
      "execution_count": null
    },
    {
      "cell_type": "code",
      "source": [
        "# Check Negative DataFrame\n",
        "negative_df = generate_df(negative_dir, 'NEGATIVE')\n",
        "negative_df.head()"
      ],
      "metadata": {
        "trusted": true,
        "id": "UCNBmryzLKxu"
      },
      "outputs": [],
      "execution_count": null
    },
    {
      "cell_type": "code",
      "source": [
        "# Concatenate DataFrame (on top of each other)\n",
        "data = pd.concat([positive_df, negative_df], axis=0).sample(frac=1, random_state=42).reset_index(drop=True)\n",
        "data.head()"
      ],
      "metadata": {
        "trusted": true,
        "id": "IGEg68qzLKxu"
      },
      "outputs": [],
      "execution_count": null
    },
    {
      "cell_type": "code",
      "source": [
        "# Split Training and Test sets\n",
        "train_df, test_df = train_test_split(\n",
        "    data.sample(6000, random_state=1), # Keep only 6000 samples to save computation time.\n",
        "    train_size=0.7,\n",
        "    shuffle=True,\n",
        "    random_state=42)"
      ],
      "metadata": {
        "trusted": true,
        "id": "AfFR3ErCLKxv"
      },
      "outputs": [],
      "execution_count": null
    },
    {
      "cell_type": "markdown",
      "source": [
        "# Loading Image Data"
      ],
      "metadata": {
        "id": "ZPgozcn0LKxv"
      }
    },
    {
      "cell_type": "code",
      "source": [
        "# Image generator for the training set\n",
        "train_generator = tf.keras.preprocessing.image.ImageDataGenerator(\n",
        "    rescale=1/255,\n",
        "    validation_split=0.2,\n",
        ")\n",
        "\n",
        "# Image generator for the test set\n",
        "test_generator = tf.keras.preprocessing.image.ImageDataGenerator(\n",
        "    rescale=1/255\n",
        ")"
      ],
      "metadata": {
        "trusted": true,
        "id": "X4T8jQbpLKxv"
      },
      "outputs": [],
      "execution_count": null
    },
    {
      "cell_type": "code",
      "source": [
        "# Generate training images\n",
        "train_images = train_generator.flow_from_dataframe(\n",
        "    train_df,\n",
        "    x_col='Filepath',\n",
        "    y_col='Label',\n",
        "    target_size=(120, 120),\n",
        "    color_mode='rgb',\n",
        "    class_mode='binary',\n",
        "    batch_size=32,\n",
        "    shuffle=True,\n",
        "    seed=42,\n",
        "    subset='training'\n",
        ")\n",
        "\n",
        "# Generate validation images\n",
        "val_images = train_generator.flow_from_dataframe(\n",
        "    train_df,\n",
        "    x_col='Filepath',\n",
        "    y_col='Label',\n",
        "    target_size=(120, 120),\n",
        "    color_mode='rgb',\n",
        "    class_mode='binary',\n",
        "    batch_size=32,\n",
        "    shuffle=True,\n",
        "    seed=42,\n",
        "    subset='validation'\n",
        ")\n",
        "\n",
        "# Generate test images\n",
        "test_images = test_generator.flow_from_dataframe(\n",
        "    test_df,\n",
        "    x_col='Filepath',\n",
        "    y_col='Label',\n",
        "    target_size=(120, 120),\n",
        "    color_mode='rgb',\n",
        "    class_mode='binary',\n",
        "    batch_size=32,\n",
        "    shuffle=False\n",
        ")"
      ],
      "metadata": {
        "trusted": true,
        "id": "45y3zOSoLKxv"
      },
      "outputs": [],
      "execution_count": null
    },
    {
      "cell_type": "markdown",
      "source": [
        "# Training"
      ],
      "metadata": {
        "id": "uaWL2KUMLKxv"
      }
    },
    {
      "cell_type": "code",
      "source": [
        "# Create the layers\n",
        "inputs = tf.keras.Input(shape=(120, 120, 3))\n",
        "x = tf.keras.layers.Conv2D(filters=16, kernel_size=3, activation='relu')(inputs)\n",
        "x = tf.keras.layers.MaxPool2D(pool_size=2)(x)\n",
        "x = tf.keras.layers.Conv2D(filters=32, kernel_size=3, activation='relu')(x)\n",
        "x = tf.keras.layers.MaxPool2D(pool_size=2)(x)\n",
        "x = tf.keras.layers.GlobalAveragePooling2D()(x)\n",
        "x = tf.keras.layers.Dense(128, activation='relu')(x)\n",
        "x = tf.keras.layers.Dense(128, activation='relu')(x)\n",
        "outputs = tf.keras.layers.Dense(1, activation='sigmoid')(x)"
      ],
      "metadata": {
        "trusted": true,
        "id": "0iuZmO8VLKxw"
      },
      "outputs": [],
      "execution_count": null
    },
    {
      "cell_type": "code",
      "source": [
        "# Create the model\n",
        "model = tf.keras.Model(inputs=inputs, outputs=outputs)\n",
        "model.summary()"
      ],
      "metadata": {
        "trusted": true,
        "id": "dFvj-zSZLKxw"
      },
      "outputs": [],
      "execution_count": null
    },
    {
      "cell_type": "code",
      "source": [
        "# Compile the model\n",
        "model.compile(\n",
        "    optimizer='adam',\n",
        "    loss='binary_crossentropy',\n",
        "    metrics=['accuracy']\n",
        ")"
      ],
      "metadata": {
        "trusted": true,
        "id": "G-WHR7TQLKxw"
      },
      "outputs": [],
      "execution_count": null
    },
    {
      "cell_type": "code",
      "source": [
        "# History\n",
        "history = model.fit(\n",
        "    train_images,\n",
        "    validation_data=val_images,\n",
        "    epochs=8,\n",
        "    callbacks=[\n",
        "        tf.keras.callbacks.EarlyStopping(\n",
        "            monitor='val_loss',\n",
        "            patience=3,\n",
        "            restore_best_weights=True\n",
        "        )\n",
        "    ]\n",
        ")"
      ],
      "metadata": {
        "trusted": true,
        "id": "4RZp-zQ_LKxw"
      },
      "outputs": [],
      "execution_count": null
    },
    {
      "cell_type": "code",
      "source": [
        "fig = px.line(\n",
        "    history.history,\n",
        "    y=['loss', 'val_loss'],\n",
        "    labels={'index': \"Epochs\", 'value':\"Loss\"},\n",
        "    title=(\"Training and Validation Loss over Time\")\n",
        ")\n",
        "\n",
        "fig.show()"
      ],
      "metadata": {
        "trusted": true,
        "id": "8rxszJd4LKxw"
      },
      "outputs": [],
      "execution_count": null
    },
    {
      "cell_type": "markdown",
      "source": [
        "# Results"
      ],
      "metadata": {
        "id": "sDrCtcniLKxw"
      }
    },
    {
      "cell_type": "code",
      "source": [
        "y_pred = (model.predict(test_images).squeeze() >= 0.5).astype(int)\n",
        "\n",
        "def evaluate_model(model):\n",
        "\n",
        "    results = model.evaluate(test_images, verbose=0)\n",
        "    loss = results[0]\n",
        "    acc = results[1]\n",
        "\n",
        "    print(\"Test Loss: {:.5f}\".format(loss))\n",
        "    print(\"Accuracy: {:.2f}%\".format(acc * 100))\n",
        "\n",
        "    cm = confusion_matrix(test_images.labels, y_pred)\n",
        "    clr = classification_report(test_images.labels, y_pred, target_names=[\"NEGATIVE\", \"POSITIVE\"])\n",
        "\n",
        "    plt.figure(figsize=(6, 6))\n",
        "    sns.heatmap(cm, annot=True, fmt='g', vmin=0, cmap='Blues', cbar=False)\n",
        "    plt.xticks(ticks=np.arange(2) + 0.5, labels=[\"NEGATIVE\", \"POSITIVE\"])\n",
        "    plt.yticks(ticks=np.arange(2) + 0.5, labels=[\"NEGATIVE\", \"POSITIVE\"])\n",
        "    plt.xlabel(\"Predicted\")\n",
        "    plt.ylabel(\"Actual\")\n",
        "    plt.show()\n",
        "\n",
        "    print(\"Classification Report:\\n------------------------------\\n\", clr)"
      ],
      "metadata": {
        "trusted": true,
        "id": "L1DOJP8KLKxw"
      },
      "outputs": [],
      "execution_count": null
    },
    {
      "cell_type": "code",
      "source": [
        "evaluate_model(model)"
      ],
      "metadata": {
        "trusted": true,
        "id": "tsJASkyBLKxx"
      },
      "outputs": [],
      "execution_count": null
    },
    {
      "cell_type": "markdown",
      "source": [
        "# Display Results"
      ],
      "metadata": {
        "id": "gItzDKb0LKxx"
      }
    },
    {
      "cell_type": "code",
      "source": [
        "plt.figure(figsize=(18, 12))\n",
        "\n",
        "for i in range(15):\n",
        "\n",
        "    plt.subplot(3, 5, i+1)\n",
        "    plt.imshow(test_images[0][0][i])\n",
        "    plt.title(\"No crack detected\" if y_pred[i] == 0 else \"Crack detected\",\n",
        "              color='blue' if y_pred[i] == test_images.labels[i] else 'red')\n",
        "    plt.axis('off')\n",
        "\n",
        "plt.show()"
      ],
      "metadata": {
        "trusted": true,
        "id": "siRN2tGaLKxx"
      },
      "outputs": [],
      "execution_count": null
    },
    {
      "cell_type": "markdown",
      "source": [
        "# Display Mistakes"
      ],
      "metadata": {
        "id": "baXpp5ydLKxx"
      }
    },
    {
      "cell_type": "code",
      "source": [
        "mistake_idx = (y_pred != test_images.labels).nonzero()[0]\n",
        "print(len(mistake_idx), \"mistakes.\")\n",
        "print(\"Indices:\", mistake_idx)"
      ],
      "metadata": {
        "trusted": true,
        "id": "eTZ-haFMLKxx"
      },
      "outputs": [],
      "execution_count": null
    },
    {
      "cell_type": "code",
      "source": [
        "# Display the detection mistakes\n",
        "plt.figure(figsize=(20, 10))\n",
        "\n",
        "for i, idx in enumerate(mistake_idx):\n",
        "\n",
        "    # Get batch number and image number (batch of 32 images)\n",
        "    batch = idx // 32\n",
        "    image = idx % 32\n",
        "\n",
        "    plt.subplot(4, 8, i+1)\n",
        "    plt.imshow(test_images[batch][0][image])\n",
        "    plt.title(\"No crack detected\" if y_pred[idx] == 0 else \"Crack detected\", color='red')\n",
        "    plt.axis('off')\n",
        "\n",
        "plt.suptitle(\"Detection Mistakes\", fontsize=20)\n",
        "plt.show()"
      ],
      "metadata": {
        "trusted": true,
        "id": "KHBfqcglLKxx"
      },
      "outputs": [],
      "execution_count": null
    },
    {
      "cell_type": "markdown",
      "source": [
        "Among the 1800 images of the test set, only a few were misclassified.\n",
        "\n",
        "Not all the images from the dataset have been used.\n",
        "\n",
        "Results can be even better by devoting more time for training.\n",
        "\n",
        "---"
      ],
      "metadata": {
        "id": "V3fNXsH0LKxx"
      }
    },
    {
      "cell_type": "markdown",
      "source": [
        "Please, let me know if you have any suggestion about this notebook.\n",
        "\n",
        "**Thank you for reading, have a nice day!**"
      ],
      "metadata": {
        "id": "jqJqrESDLKxx"
      }
    }
  ]
}